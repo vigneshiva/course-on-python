{
 "cells": [
  {
   "cell_type": "code",
   "execution_count": 33,
   "metadata": {},
   "outputs": [],
   "source": [
    "import pandas as pd\n",
    "import numpy as np\n",
    "from sklearn.linear_model import LogisticRegression\n",
    "from sklearn.model_selection import train_test_split\n",
    "from sklearn.datasets import load_digits    #sklearn.datasets-contains many data sets one of which is load_digits\n",
    "%matplotlib inline \n",
    "import matplotlib.pyplot as plt \n",
    "from sklearn.metrics import confusion_matrix   #to check where my model fails (finding the fault in the model)\n",
    "import seaborn as sn  #like matplotlib it is used to show images"
   ]
  },
  {
   "cell_type": "code",
   "execution_count": 34,
   "metadata": {},
   "outputs": [],
   "source": [
    "df = load_digits()"
   ]
  },
  {
   "cell_type": "code",
   "execution_count": 35,
   "metadata": {},
   "outputs": [
    {
     "data": {
      "text/plain": [
       "['DESCR', 'data', 'feature_names', 'frame', 'images', 'target', 'target_names']"
      ]
     },
     "execution_count": 35,
     "metadata": {},
     "output_type": "execute_result"
    }
   ],
   "source": [
    "dir(df)    #dir() gives the attributes and methods inside the class(load_digits) "
   ]
  },
  {
   "cell_type": "code",
   "execution_count": 36,
   "metadata": {},
   "outputs": [
    {
     "data": {
      "text/plain": [
       "array([ 0.,  0.,  5., 13.,  9.,  1.,  0.,  0.,  0.,  0., 13., 15., 10.,\n",
       "       15.,  5.,  0.,  0.,  3., 15.,  2.,  0., 11.,  8.,  0.,  0.,  4.,\n",
       "       12.,  0.,  0.,  8.,  8.,  0.,  0.,  5.,  8.,  0.,  0.,  9.,  8.,\n",
       "        0.,  0.,  4., 11.,  0.,  1., 12.,  7.,  0.,  0.,  2., 14.,  5.,\n",
       "       10., 12.,  0.,  0.,  0.,  0.,  6., 13., 10.,  0.,  0.,  0.])"
      ]
     },
     "execution_count": 36,
     "metadata": {},
     "output_type": "execute_result"
    }
   ],
   "source": [
    "df.data[0]     #gives what data is in the 1st position of the load_digits in array(numerical) mode "
   ]
  },
  {
   "cell_type": "code",
   "execution_count": 37,
   "metadata": {},
   "outputs": [
    {
     "data": {
      "text/plain": [
       "<matplotlib.image.AxesImage at 0x22438f297c0>"
      ]
     },
     "execution_count": 37,
     "metadata": {},
     "output_type": "execute_result"
    },
    {
     "data": {
      "image/png": "[encoded data removed]",
      "text/plain": [
       "<Figure size 288x288 with 1 Axes>"
      ]
     },
     "metadata": {
      "needs_background": "light"
     },
     "output_type": "display_data"
    }
   ],
   "source": [
    "plt.matshow(df.images[0])       #gives what data is in the 1st position of the load_digits in pictorical mode which is 0"
   ]
  },
  {
   "cell_type": "code",
   "execution_count": 38,
   "metadata": {},
   "outputs": [
    {
     "data": {
      "image/png": "[encoded data removed]",
      "text/plain": [
       "<Figure size 288x288 with 1 Axes>"
      ]
     },
     "metadata": {
      "needs_background": "light"
     },
     "output_type": "display_data"
    },
    {
     "data": {
      "image/png": "[encoded data removed]",
      "text/plain": [
       "<Figure size 288x288 with 1 Axes>"
      ]
     },
     "metadata": {
      "needs_background": "light"
     },
     "output_type": "display_data"
    },
    {
     "data": {
      "image/png": "[encoded data removed]",
      "text/plain": [
       "<Figure size 288x288 with 1 Axes>"
      ]
     },
     "metadata": {
      "needs_background": "light"
     },
     "output_type": "display_data"
    }
   ],
   "source": [
    "for i in range(3):\n",
    "    plt.matshow(df.images[i])     # to print images in load_digit for a givin range "
   ]
  },
  {
   "cell_type": "code",
   "execution_count": 39,
   "metadata": {},
   "outputs": [
    {
     "data": {
      "text/plain": [
       "array([0, 1, 2])"
      ]
     },
     "execution_count": 39,
     "metadata": {},
     "output_type": "execute_result"
    }
   ],
   "source": [
    "df.target[0:3]  #it gives what the image actually means that is the 0 in this output array is the image 0  "
   ]
  },
  {
   "cell_type": "code",
   "execution_count": 40,
   "metadata": {},
   "outputs": [],
   "source": [
    "xtr,xte,ytr,yte = train_test_split(df.data,df.target,test_size=0.2)"
   ]
  },
  {
   "cell_type": "code",
   "execution_count": 41,
   "metadata": {},
   "outputs": [
    {
     "data": {
      "text/plain": [
       "LogisticRegression()"
      ]
     },
     "execution_count": 41,
     "metadata": {},
     "output_type": "execute_result"
    }
   ],
   "source": [
    "lor = LogisticRegression()\n",
    "lor"
   ]
  },
  {
   "cell_type": "code",
   "execution_count": 42,
   "metadata": {},
   "outputs": [
    {
     "name": "stderr",
     "output_type": "stream",
     "text": [
      "C:\\Users\\Welcome\\anaconda3\\lib\\site-packages\\sklearn\\linear_model\\_logistic.py:762: ConvergenceWarning: lbfgs failed to converge (status=1):\n",
      "STOP: TOTAL NO. of ITERATIONS REACHED LIMIT.\n",
      "\n",
      "Increase the number of iterations (max_iter) or scale the data as shown in:\n",
      "    https://scikit-learn.org/stable/modules/preprocessing.html\n",
      "Please also refer to the documentation for alternative solver options:\n",
      "    https://scikit-learn.org/stable/modules/linear_model.html#logistic-regression\n",
      "  n_iter_i = _check_optimize_result(\n"
     ]
    },
    {
     "data": {
      "text/plain": [
       "LogisticRegression()"
      ]
     },
     "execution_count": 42,
     "metadata": {},
     "output_type": "execute_result"
    }
   ],
   "source": [
    "lor.fit(xtr,ytr)"
   ]
  },
  {
   "cell_type": "code",
   "execution_count": 43,
   "metadata": {},
   "outputs": [
    {
     "data": {
      "text/plain": [
       "0.9666666666666667"
      ]
     },
     "execution_count": 43,
     "metadata": {},
     "output_type": "execute_result"
    }
   ],
   "source": [
    "lor.score(xte,yte)"
   ]
  },
  {
   "cell_type": "code",
   "execution_count": 44,
   "metadata": {
    "scrolled": true
   },
   "outputs": [
    {
     "data": {
      "text/plain": [
       "array([9, 2, 8, 9, 7, 0, 3, 9, 6, 8, 8, 4, 9, 1, 1, 6, 8, 6, 7, 3, 0, 5,\n",
       "       4, 5, 2, 2, 9, 6, 1, 0, 1, 4, 2, 3, 9, 1, 6, 6, 3, 7, 6, 3, 3, 6,\n",
       "       7, 0, 8, 7, 5, 4, 3, 3, 2, 4, 6, 8, 2, 5, 3, 3, 8, 7, 2, 7, 0, 1,\n",
       "       6, 7, 1, 8, 4, 5, 9, 3, 0, 4, 9, 0, 0, 6, 5, 3, 8, 3, 3, 2, 2, 4,\n",
       "       8, 0, 2, 3, 2, 0, 5, 1, 5, 7, 1, 1, 2, 7, 1, 4, 3, 7, 8, 9, 1, 8,\n",
       "       2, 2, 7, 4, 3, 1, 2, 7, 5, 0, 6, 7, 3, 2, 1, 5, 8, 5, 7, 4, 7, 8,\n",
       "       9, 7, 9, 2, 8, 6, 7, 5, 5, 7, 3, 0, 3, 4, 0, 2, 5, 4, 3, 9, 9, 6,\n",
       "       7, 0, 2, 1, 7, 4, 8, 8, 3, 3, 4, 9, 8, 8, 8, 9, 1, 7, 0, 0, 3, 2,\n",
       "       4, 8, 9, 2, 4, 5, 2, 6, 9, 2, 6, 5, 0, 4, 2, 4, 9, 0, 4, 2, 3, 7,\n",
       "       6, 2, 3, 6, 5, 5, 0, 7, 7, 9, 1, 4, 7, 5, 9, 7, 8, 5, 7, 9, 3, 3,\n",
       "       0, 7, 0, 9, 0, 9, 0, 1, 2, 1, 8, 9, 9, 4, 6, 7, 2, 9, 2, 0, 8, 5,\n",
       "       4, 1, 0, 5, 2, 1, 2, 2, 0, 7, 3, 8, 1, 7, 7, 5, 4, 0, 5, 1, 1, 8,\n",
       "       0, 6, 8, 4, 4, 3, 2, 0, 8, 7, 4, 5, 2, 4, 1, 1, 7, 8, 1, 1, 7, 8,\n",
       "       7, 2, 1, 5, 3, 4, 7, 5, 9, 9, 5, 9, 3, 3, 4, 5, 2, 5, 2, 7, 5, 1,\n",
       "       5, 1, 4, 6, 7, 0, 7, 3, 3, 0, 3, 8, 2, 2, 8, 6, 2, 9, 8, 3, 3, 3,\n",
       "       6, 6, 4, 3, 6, 0, 0, 8, 3, 3, 9, 5, 1, 1, 7, 4, 4, 9, 0, 5, 1, 6,\n",
       "       1, 7, 2, 4, 5, 4, 7, 9])"
      ]
     },
     "execution_count": 44,
     "metadata": {},
     "output_type": "execute_result"
    }
   ],
   "source": [
    "lor.predict(xte)"
   ]
  },
  {
   "cell_type": "code",
   "execution_count": 45,
   "metadata": {},
   "outputs": [
    {
     "data": {
      "text/plain": [
       "<matplotlib.image.AxesImage at 0x22438f9e670>"
      ]
     },
     "execution_count": 45,
     "metadata": {},
     "output_type": "execute_result"
    },
    {
     "data": {
      "image/png": "[encoded data removed]",
      "text/plain": [
       "<Figure size 288x288 with 1 Axes>"
      ]
     },
     "metadata": {
      "needs_background": "light"
     },
     "output_type": "display_data"
    }
   ],
   "source": [
    "plt.matshow(df.images[67]) "
   ]
  },
  {
   "cell_type": "code",
   "execution_count": 46,
   "metadata": {},
   "outputs": [
    {
     "data": {
      "text/plain": [
       "array([6])"
      ]
     },
     "execution_count": 46,
     "metadata": {},
     "output_type": "execute_result"
    }
   ],
   "source": [
    "lor.predict(df.data[[67]])"
   ]
  },
  {
   "cell_type": "code",
   "execution_count": 47,
   "metadata": {},
   "outputs": [
    {
     "data": {
      "text/plain": [
       "array([0, 1, 2, 3, 4])"
      ]
     },
     "execution_count": 47,
     "metadata": {},
     "output_type": "execute_result"
    }
   ],
   "source": [
    "lor.predict(df.data[0:5])"
   ]
  },
  {
   "cell_type": "code",
   "execution_count": 48,
   "metadata": {},
   "outputs": [],
   "source": [
    "yp = lor.predict(xte)\n",
    "from sklearn.metrics import confusion_matrix   #to check where my model fails (finding the fault in the model)"
   ]
  },
  {
   "cell_type": "code",
   "execution_count": 49,
   "metadata": {},
   "outputs": [
    {
     "data": {
      "text/plain": [
       "array([[33,  0,  1,  0,  0,  0,  0,  0,  0,  0],\n",
       "       [ 0, 33,  0,  0,  0,  0,  0,  0,  0,  0],\n",
       "       [ 0,  1, 37,  0,  0,  0,  0,  0,  0,  0],\n",
       "       [ 0,  0,  0, 42,  0,  1,  0,  0,  1,  0],\n",
       "       [ 0,  0,  0,  0, 36,  0,  1,  0,  0,  0],\n",
       "       [ 0,  0,  1,  0,  0, 33,  0,  0,  0,  0],\n",
       "       [ 0,  0,  0,  0,  0,  0, 25,  0,  0,  0],\n",
       "       [ 0,  0,  0,  0,  0,  0,  0, 44,  0,  0],\n",
       "       [ 0,  1,  2,  0,  0,  1,  0,  0, 32,  0],\n",
       "       [ 1,  0,  0,  0,  0,  0,  0,  0,  1, 33]], dtype=int64)"
      ]
     },
     "execution_count": 49,
     "metadata": {},
     "output_type": "execute_result"
    }
   ],
   "source": [
    "cm = confusion_matrix(yte,yp)      #this array shows the following commented below\n",
    "cm"
   ]
  },
  {
   "cell_type": "code",
   "execution_count": 50,
   "metadata": {},
   "outputs": [],
   "source": [
    "#it states that x-axis - predicted, y-axis - truth\n",
    "#in the first column when input is 0 for 33 times model predicted it as 0 and 1 time as 9\n",
    "#in the third column input is 1 correctly model predicted 2 -37 time, 0-1 time, 5-1 time, 8-2 time "
   ]
  },
  {
   "cell_type": "code",
   "execution_count": 54,
   "metadata": {},
   "outputs": [
    {
     "ename": "AttributeError",
     "evalue": "module 'matplotlib.pyplot' has no attribute 'xlable'",
     "output_type": "error",
     "traceback": [
      "\u001b[1;31m---------------------------------------------------------------------------\u001b[0m",
      "\u001b[1;31mAttributeError\u001b[0m                            Traceback (most recent call last)",
      "\u001b[1;32m<ipython-input-54-4ad5d3b84d4d>\u001b[0m in \u001b[0;36m<module>\u001b[1;34m\u001b[0m\n\u001b[0;32m      2\u001b[0m \u001b[0mplt\u001b[0m\u001b[1;33m.\u001b[0m\u001b[0mfigure\u001b[0m\u001b[1;33m(\u001b[0m\u001b[0mfigsize\u001b[0m \u001b[1;33m=\u001b[0m \u001b[1;33m(\u001b[0m\u001b[1;36m10\u001b[0m\u001b[1;33m,\u001b[0m\u001b[1;36m7\u001b[0m\u001b[1;33m)\u001b[0m\u001b[1;33m)\u001b[0m\u001b[1;33m\u001b[0m\u001b[1;33m\u001b[0m\u001b[0m\n\u001b[0;32m      3\u001b[0m \u001b[0msn\u001b[0m\u001b[1;33m.\u001b[0m\u001b[0mheatmap\u001b[0m\u001b[1;33m(\u001b[0m\u001b[0mcm\u001b[0m\u001b[1;33m,\u001b[0m \u001b[0mannot\u001b[0m \u001b[1;33m=\u001b[0m \u001b[1;32mTrue\u001b[0m \u001b[1;33m)\u001b[0m\u001b[1;33m\u001b[0m\u001b[1;33m\u001b[0m\u001b[0m\n\u001b[1;32m----> 4\u001b[1;33m \u001b[0mplt\u001b[0m\u001b[1;33m.\u001b[0m\u001b[0mxlable\u001b[0m\u001b[1;33m(\u001b[0m\u001b[1;34m'Predicted'\u001b[0m\u001b[1;33m)\u001b[0m\u001b[1;33m\u001b[0m\u001b[1;33m\u001b[0m\u001b[0m\n\u001b[0m\u001b[0;32m      5\u001b[0m \u001b[0mplt\u001b[0m\u001b[1;33m.\u001b[0m\u001b[0mylable\u001b[0m\u001b[1;33m(\u001b[0m\u001b[1;34m'Truth'\u001b[0m\u001b[1;33m)\u001b[0m\u001b[1;33m\u001b[0m\u001b[1;33m\u001b[0m\u001b[0m\n",
      "\u001b[1;31mAttributeError\u001b[0m: module 'matplotlib.pyplot' has no attribute 'xlable'"
     ]
    },
    {
     "data": {
      "image/png": "[encoded data removed]",
      "text/plain": [
       "<Figure size 720x504 with 2 Axes>"
      ]
     },
     "metadata": {
      "needs_background": "light"
     },
     "output_type": "display_data"
    }
   ],
   "source": [
    "import seaborn as sn\n",
    "plt.figure(figsize = (10,7))\n",
    "sn.heatmap(cm, annot = True )\n",
    "plt.xlable('Predicted')\n",
    "plt.ylable('Truth')"
   ]
  },
  {
   "cell_type": "code",
   "execution_count": null,
   "metadata": {},
   "outputs": [],
   "source": []
  }
 ],
 "metadata": {
  "kernelspec": {
   "display_name": "Python 3",
   "language": "python",
   "name": "python3"
  },
  "language_info": {
   "codemirror_mode": {
    "name": "ipython",
    "version": 3
   },
   "file_extension": ".py",
   "mimetype": "text/x-python",
   "name": "python",
   "nbconvert_exporter": "python",
   "pygments_lexer": "ipython3",
   "version": "3.8.5"
  }
 },
 "nbformat": 4,
 "nbformat_minor": 4
}
